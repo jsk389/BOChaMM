{
 "cells": [
  {
   "cell_type": "code",
   "execution_count": 1,
   "id": "874d5fed",
   "metadata": {},
   "outputs": [
    {
     "ename": "ModuleNotFoundError",
     "evalue": "No module named 'frequencies'",
     "output_type": "error",
     "traceback": [
      "\u001b[0;31m---------------------------------------------------------------------------\u001b[0m",
      "\u001b[0;31mModuleNotFoundError\u001b[0m                       Traceback (most recent call last)",
      "\u001b[0;32m<ipython-input-1-11c1faa996a4>\u001b[0m in \u001b[0;36m<module>\u001b[0;34m\u001b[0m\n\u001b[1;32m     14\u001b[0m \u001b[0;32mfrom\u001b[0m \u001b[0mastropy\u001b[0m\u001b[0;34m.\u001b[0m\u001b[0mtimeseries\u001b[0m \u001b[0;32mimport\u001b[0m \u001b[0mLombScargle\u001b[0m\u001b[0;34m\u001b[0m\u001b[0;34m\u001b[0m\u001b[0m\n\u001b[1;32m     15\u001b[0m \u001b[0;32mfrom\u001b[0m \u001b[0mscipy\u001b[0m\u001b[0;34m.\u001b[0m\u001b[0mstats\u001b[0m \u001b[0;32mimport\u001b[0m \u001b[0mqmc\u001b[0m\u001b[0;34m\u001b[0m\u001b[0;34m\u001b[0m\u001b[0m\n\u001b[0;32m---> 16\u001b[0;31m \u001b[0;32mimport\u001b[0m \u001b[0mfrequencies\u001b[0m\u001b[0;34m,\u001b[0m \u001b[0mmixed_modes_utils\u001b[0m\u001b[0;34m\u001b[0m\u001b[0;34m\u001b[0m\u001b[0m\n\u001b[0m\u001b[1;32m     17\u001b[0m \u001b[0;31m#from tqdm import tqdm\u001b[0m\u001b[0;34m\u001b[0m\u001b[0;34m\u001b[0m\u001b[0;34m\u001b[0m\u001b[0m\n\u001b[1;32m     18\u001b[0m \u001b[0;31m#from taco.rotation import rotation_utils\u001b[0m\u001b[0;34m\u001b[0m\u001b[0;34m\u001b[0m\u001b[0;34m\u001b[0m\u001b[0m\n",
      "\u001b[0;31mModuleNotFoundError\u001b[0m: No module named 'frequencies'"
     ]
    }
   ],
   "source": [
    "import sys\n",
    "# sys.path.insert(1, './bochamm'); sys.path.insert(1, './sloscillations')\n",
    "\n",
    "# /home/marc/github_projects/BOChaMM/devel/bochamm\n",
    "import utils\n",
    "import matplotlib.pyplot as plt\n",
    "import matplotlib.gridspec as gridspec\n",
    "import numpy as np\n",
    "import pandas as pd\n",
    "import scipy.stats as stats\n",
    "import time as timer\n",
    "\n",
    "\n",
    "from astropy.timeseries import LombScargle\n",
    "from scipy.stats import qmc\n",
    "import frequencies, mixed_modes_utils\n",
    "#from tqdm import tqdm\n",
    "#from taco.rotation import rotation_utils\n",
    "from sklearn.cluster import OPTICS, cluster_optics_dbscan\n",
    "from turbo import Turbo1, TurboM\n",
    "from turbo.utils import from_unit_cube, latin_hypercube, to_unit_cube\n",
    "from typing import Optional"
   ]
  },
  {
   "cell_type": "code",
   "execution_count": 7,
   "id": "a4848f64",
   "metadata": {},
   "outputs": [
    {
     "ename": "SyntaxError",
     "evalue": "invalid syntax (<ipython-input-7-be5a17bd8e74>, line 1)",
     "output_type": "error",
     "traceback": [
      "\u001b[0;36m  File \u001b[0;32m\"<ipython-input-7-be5a17bd8e74>\"\u001b[0;36m, line \u001b[0;32m1\u001b[0m\n\u001b[0;31m    import .bochamm.utils\u001b[0m\n\u001b[0m           ^\u001b[0m\n\u001b[0;31mSyntaxError\u001b[0m\u001b[0;31m:\u001b[0m invalid syntax\n"
     ]
    }
   ],
   "source": [
    "import .bochamm.utils"
   ]
  },
  {
   "cell_type": "code",
   "execution_count": 3,
   "id": "b92c1153",
   "metadata": {},
   "outputs": [
    {
     "name": "stdout",
     "output_type": "stream",
     "text": [
      "['/home/marc/github_projects/BOChaMM/devel/notebooks', '/home/marc/github_projects/BOChaMM/devel/notebooks', '/home/marc/notebooks/BASTA', '/home/marc/anaconda3/lib/python38.zip', '/home/marc/anaconda3/lib/python3.8', '/home/marc/anaconda3/lib/python3.8/lib-dynload', '', '/home/marc/.local/lib/python3.8/site-packages', '/home/marc/notebooks', '/home/marc/notebooks/sloscillations/sloscillations/zeta', '/home/marc/anaconda3/lib/python3.8/site-packages', '/home/marc/anaconda3/lib/python3.8/site-packages/SpecMatch_Emp-0.3-py3.8.egg', '/home/marc/anaconda3/lib/python3.8/site-packages/isochrones-2.1-py3.8.egg', '/home/marc/anaconda3/lib/python3.8/site-packages/lmfit-1.0.2-py3.8.egg', '/home/marc/anaconda3/lib/python3.8/site-packages/configobj-5.0.6-py3.8.egg', '/home/marc/anaconda3/lib/python3.8/site-packages/asciitree-0.3.3-py3.8.egg', '/home/marc/anaconda3/lib/python3.8/site-packages/emcee-3.1.1-py3.8.egg', '/home/marc/anaconda3/lib/python3.8/site-packages/asteval-0.9.25-py3.8.egg', '/home/marc/notebooks/orvara', '/home/marc/anaconda3/lib/python3.8/site-packages/locket-0.2.1-py3.8.egg', '/home/marc/anaconda3/lib/python3.8/site-packages/IPython/extensions', '/home/marc/.ipython']\n"
     ]
    }
   ],
   "source": [
    "import sys\n",
    "print(sys.path)"
   ]
  },
  {
   "cell_type": "code",
   "execution_count": null,
   "id": "20305781",
   "metadata": {},
   "outputs": [],
   "source": []
  }
 ],
 "metadata": {
  "kernelspec": {
   "display_name": "Python 3",
   "language": "python",
   "name": "python3"
  },
  "language_info": {
   "codemirror_mode": {
    "name": "ipython",
    "version": 3
   },
   "file_extension": ".py",
   "mimetype": "text/x-python",
   "name": "python",
   "nbconvert_exporter": "python",
   "pygments_lexer": "ipython3",
   "version": "3.8.8"
  }
 },
 "nbformat": 4,
 "nbformat_minor": 5
}
